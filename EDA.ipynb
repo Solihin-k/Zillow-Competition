{
 "cells": [
  {
   "cell_type": "markdown",
   "metadata": {},
   "source": [
    "# Real Estate Prediction"
   ]
  },
  {
   "cell_type": "markdown",
   "metadata": {},
   "source": [
    "# Content\n",
    "\n",
    "- <a href = '#1'>Introduction</a>  \n",
    "- <a href = '#2'>Load Packages</a>  \n",
    "- <a href = '#3'>Load Data</a>  \n",
    "- <a href = '#4'>Data Quality Check</a>  \n",
    "- <a href = '#5'>Explore Data</a>\n",
    "    - <a href = '#51'>Correlation Values</a>\n",
    "    - <a href = '#52'>Categorical Variables</a>\n",
    "    - <a href = '#52'>Create a Test Set</a>\n",
    "- <a href = '#6'>Prep Data for Machine Learning</a>  \n",
    "    - <a href = '#61'>Missing Values</a> \n",
    "    - <a href = '#62'>Transaction Date</a>     \n",
    "    - <a href = '#63'>Encoding</a> \n",
    "    - <a href = '#64'>Feature Scaling</a> \n",
    "    - <a href = '#65'>Columns to drop/add</a> \n",
    "    - <a href = '#66'>Feature Engineering</a>\n",
    "- <a href = '#7'>Transformation Pipeline</a>\n",
    "- <a href = '#8'>Train Model</a>\n",
    "    - <a href = '#81'>Baseline Model - Gradient Boosting Regression</a> \n",
    "    - <a href = '#82'>Hyperparameter Tuning</a> \n",
    "    - <a href = '#83'>Feature Importance</a> \n",
    "- <a href = '#9'>Next Steps</a>"
   ]
  },
  {
   "cell_type": "markdown",
   "metadata": {},
   "source": [
    "## <a id = '1'>Introduction</a>  "
   ]
  },
  {
   "cell_type": "markdown",
   "metadata": {},
   "source": [
    "[Zillow's](https://www.zillow.com/) Zestimate home valuation has shaken up the U.S. real estate industry since first released 11 years ago.\n",
    "\n",
    "A home is often the largest and most expensive purchase a person makes in his or her lifetime. Ensuring homeowners have a trusted way to monitor this asset is incredibly important. The Zestimate was created to give consumers as much information as possible about homes and the housing market, marking the first time consumers had access to this type of home value information at no cost.\n",
    "\n",
    "“Zestimates” are estimated home values based on 7.5 million statistical and machine learning models that analyze hundreds of data points on each property. And, by continually improving the median margin of error (from 14% at the onset to 5% today), Zillow has since become established as one of the largest, most trusted marketplaces for real estate information in the U.S. and a leading example of impactful machine learning.\n",
    "\n",
    "This project is based on the [Zillow Prize Competition](https://www.kaggle.com/c/zillow-prize-1/overview) on Kaggle and its goal is to develop an algorithm that makes predictions about the future sale prices of homes.\n",
    "\n",
    "![image](https://cdn.geekwire.com/wp-content/uploads/2020/02/Annotation-2020-02-18-093710.png) <br><br>\n",
    "\n",
    "\n",
    "In this competition, Zillow is asking you to predict the log-error between their Zestimate and the actual sale price, given all the features of a home. The log error is defined as <br> <br>\n",
    "\n",
    "<a><center>*logerror = log(Zestimate) − log(SalePrice)*</center></a>\n",
    "    \n",
    "<br><br>\n",
    "and it is recorded in the transactions file train.csv. In this competition, you are going to predict the logerror for the months in Fall 2017. Since all the real estate transactions in the U.S. are publicly available, we will close the competition (no longer accepting submissions) before the evaluation period begins."
   ]
  },
  {
   "cell_type": "markdown",
   "metadata": {},
   "source": [
    "## <a id = '2'>Load Packages</a>  "
   ]
  },
  {
   "cell_type": "code",
   "execution_count": 1,
   "metadata": {},
   "outputs": [],
   "source": [
    "import numpy as np\n",
    "import pandas as pd\n",
    "\n",
    "import matplotlib.pyplot as plt\n",
    "%matplotlib inline\n",
    "\n",
    "import seaborn as sns\n",
    "sns.set_style('whitegrid')\n",
    "\n",
    "import warnings\n",
    "warnings.filterwarnings('ignore')\n",
    "\n",
    "from sklearn.model_selection import train_test_split\n",
    "from sklearn.metrics import mean_absolute_error\n",
    "from sklearn.preprocessing import StandardScaler"
   ]
  },
  {
   "cell_type": "markdown",
   "metadata": {},
   "source": [
    "## <a id = '3'>Load Data</a>  "
   ]
  },
  {
   "cell_type": "code",
   "execution_count": 2,
   "metadata": {},
   "outputs": [
    {
     "data": {
      "text/html": [
       "<div>\n",
       "<style scoped>\n",
       "    .dataframe tbody tr th:only-of-type {\n",
       "        vertical-align: middle;\n",
       "    }\n",
       "\n",
       "    .dataframe tbody tr th {\n",
       "        vertical-align: top;\n",
       "    }\n",
       "\n",
       "    .dataframe thead th {\n",
       "        text-align: right;\n",
       "    }\n",
       "</style>\n",
       "<table border=\"1\" class=\"dataframe\">\n",
       "  <thead>\n",
       "    <tr style=\"text-align: right;\">\n",
       "      <th></th>\n",
       "      <th>parcelid</th>\n",
       "      <th>airconditioningtypeid</th>\n",
       "      <th>architecturalstyletypeid</th>\n",
       "      <th>basementsqft</th>\n",
       "      <th>bathroomcnt</th>\n",
       "      <th>bedroomcnt</th>\n",
       "      <th>buildingclasstypeid</th>\n",
       "      <th>buildingqualitytypeid</th>\n",
       "      <th>calculatedbathnbr</th>\n",
       "      <th>decktypeid</th>\n",
       "      <th>...</th>\n",
       "      <th>numberofstories</th>\n",
       "      <th>fireplaceflag</th>\n",
       "      <th>structuretaxvaluedollarcnt</th>\n",
       "      <th>taxvaluedollarcnt</th>\n",
       "      <th>assessmentyear</th>\n",
       "      <th>landtaxvaluedollarcnt</th>\n",
       "      <th>taxamount</th>\n",
       "      <th>taxdelinquencyflag</th>\n",
       "      <th>taxdelinquencyyear</th>\n",
       "      <th>censustractandblock</th>\n",
       "    </tr>\n",
       "  </thead>\n",
       "  <tbody>\n",
       "    <tr>\n",
       "      <th>0</th>\n",
       "      <td>10754147</td>\n",
       "      <td>NaN</td>\n",
       "      <td>NaN</td>\n",
       "      <td>NaN</td>\n",
       "      <td>0.0</td>\n",
       "      <td>0.0</td>\n",
       "      <td>NaN</td>\n",
       "      <td>NaN</td>\n",
       "      <td>NaN</td>\n",
       "      <td>NaN</td>\n",
       "      <td>...</td>\n",
       "      <td>NaN</td>\n",
       "      <td>NaN</td>\n",
       "      <td>NaN</td>\n",
       "      <td>9.0</td>\n",
       "      <td>2015.0</td>\n",
       "      <td>9.0</td>\n",
       "      <td>NaN</td>\n",
       "      <td>NaN</td>\n",
       "      <td>NaN</td>\n",
       "      <td>NaN</td>\n",
       "    </tr>\n",
       "    <tr>\n",
       "      <th>1</th>\n",
       "      <td>10759547</td>\n",
       "      <td>NaN</td>\n",
       "      <td>NaN</td>\n",
       "      <td>NaN</td>\n",
       "      <td>0.0</td>\n",
       "      <td>0.0</td>\n",
       "      <td>NaN</td>\n",
       "      <td>NaN</td>\n",
       "      <td>NaN</td>\n",
       "      <td>NaN</td>\n",
       "      <td>...</td>\n",
       "      <td>NaN</td>\n",
       "      <td>NaN</td>\n",
       "      <td>NaN</td>\n",
       "      <td>27516.0</td>\n",
       "      <td>2015.0</td>\n",
       "      <td>27516.0</td>\n",
       "      <td>NaN</td>\n",
       "      <td>NaN</td>\n",
       "      <td>NaN</td>\n",
       "      <td>NaN</td>\n",
       "    </tr>\n",
       "    <tr>\n",
       "      <th>2</th>\n",
       "      <td>10843547</td>\n",
       "      <td>NaN</td>\n",
       "      <td>NaN</td>\n",
       "      <td>NaN</td>\n",
       "      <td>0.0</td>\n",
       "      <td>0.0</td>\n",
       "      <td>NaN</td>\n",
       "      <td>NaN</td>\n",
       "      <td>NaN</td>\n",
       "      <td>NaN</td>\n",
       "      <td>...</td>\n",
       "      <td>NaN</td>\n",
       "      <td>NaN</td>\n",
       "      <td>650756.0</td>\n",
       "      <td>1413387.0</td>\n",
       "      <td>2015.0</td>\n",
       "      <td>762631.0</td>\n",
       "      <td>20800.37</td>\n",
       "      <td>NaN</td>\n",
       "      <td>NaN</td>\n",
       "      <td>NaN</td>\n",
       "    </tr>\n",
       "    <tr>\n",
       "      <th>3</th>\n",
       "      <td>10859147</td>\n",
       "      <td>NaN</td>\n",
       "      <td>NaN</td>\n",
       "      <td>NaN</td>\n",
       "      <td>0.0</td>\n",
       "      <td>0.0</td>\n",
       "      <td>3.0</td>\n",
       "      <td>7.0</td>\n",
       "      <td>NaN</td>\n",
       "      <td>NaN</td>\n",
       "      <td>...</td>\n",
       "      <td>1.0</td>\n",
       "      <td>NaN</td>\n",
       "      <td>571346.0</td>\n",
       "      <td>1156834.0</td>\n",
       "      <td>2015.0</td>\n",
       "      <td>585488.0</td>\n",
       "      <td>14557.57</td>\n",
       "      <td>NaN</td>\n",
       "      <td>NaN</td>\n",
       "      <td>NaN</td>\n",
       "    </tr>\n",
       "    <tr>\n",
       "      <th>4</th>\n",
       "      <td>10879947</td>\n",
       "      <td>NaN</td>\n",
       "      <td>NaN</td>\n",
       "      <td>NaN</td>\n",
       "      <td>0.0</td>\n",
       "      <td>0.0</td>\n",
       "      <td>4.0</td>\n",
       "      <td>NaN</td>\n",
       "      <td>NaN</td>\n",
       "      <td>NaN</td>\n",
       "      <td>...</td>\n",
       "      <td>NaN</td>\n",
       "      <td>NaN</td>\n",
       "      <td>193796.0</td>\n",
       "      <td>433491.0</td>\n",
       "      <td>2015.0</td>\n",
       "      <td>239695.0</td>\n",
       "      <td>5725.17</td>\n",
       "      <td>NaN</td>\n",
       "      <td>NaN</td>\n",
       "      <td>NaN</td>\n",
       "    </tr>\n",
       "  </tbody>\n",
       "</table>\n",
       "<p>5 rows × 58 columns</p>\n",
       "</div>"
      ],
      "text/plain": [
       "   parcelid  airconditioningtypeid  architecturalstyletypeid  basementsqft  \\\n",
       "0  10754147                    NaN                       NaN           NaN   \n",
       "1  10759547                    NaN                       NaN           NaN   \n",
       "2  10843547                    NaN                       NaN           NaN   \n",
       "3  10859147                    NaN                       NaN           NaN   \n",
       "4  10879947                    NaN                       NaN           NaN   \n",
       "\n",
       "   bathroomcnt  bedroomcnt  buildingclasstypeid  buildingqualitytypeid  \\\n",
       "0          0.0         0.0                  NaN                    NaN   \n",
       "1          0.0         0.0                  NaN                    NaN   \n",
       "2          0.0         0.0                  NaN                    NaN   \n",
       "3          0.0         0.0                  3.0                    7.0   \n",
       "4          0.0         0.0                  4.0                    NaN   \n",
       "\n",
       "   calculatedbathnbr  decktypeid  ...  numberofstories  fireplaceflag  \\\n",
       "0                NaN         NaN  ...              NaN            NaN   \n",
       "1                NaN         NaN  ...              NaN            NaN   \n",
       "2                NaN         NaN  ...              NaN            NaN   \n",
       "3                NaN         NaN  ...              1.0            NaN   \n",
       "4                NaN         NaN  ...              NaN            NaN   \n",
       "\n",
       "   structuretaxvaluedollarcnt  taxvaluedollarcnt  assessmentyear  \\\n",
       "0                         NaN                9.0          2015.0   \n",
       "1                         NaN            27516.0          2015.0   \n",
       "2                    650756.0          1413387.0          2015.0   \n",
       "3                    571346.0          1156834.0          2015.0   \n",
       "4                    193796.0           433491.0          2015.0   \n",
       "\n",
       "   landtaxvaluedollarcnt  taxamount  taxdelinquencyflag  taxdelinquencyyear  \\\n",
       "0                    9.0        NaN                 NaN                 NaN   \n",
       "1                27516.0        NaN                 NaN                 NaN   \n",
       "2               762631.0   20800.37                 NaN                 NaN   \n",
       "3               585488.0   14557.57                 NaN                 NaN   \n",
       "4               239695.0    5725.17                 NaN                 NaN   \n",
       "\n",
       "   censustractandblock  \n",
       "0                  NaN  \n",
       "1                  NaN  \n",
       "2                  NaN  \n",
       "3                  NaN  \n",
       "4                  NaN  \n",
       "\n",
       "[5 rows x 58 columns]"
      ]
     },
     "execution_count": 2,
     "metadata": {},
     "output_type": "execute_result"
    }
   ],
   "source": [
    "# properties listed on Zillow\n",
    "\n",
    "properties = pd.read_csv('data/properties_2016.csv')\n",
    "\n",
    "properties.head()"
   ]
  },
  {
   "cell_type": "code",
   "execution_count": 3,
   "metadata": {},
   "outputs": [
    {
     "name": "stdout",
     "output_type": "stream",
     "text": [
      "<class 'pandas.core.frame.DataFrame'>\n",
      "RangeIndex: 2985217 entries, 0 to 2985216\n",
      "Data columns (total 58 columns):\n",
      " #   Column                        Dtype  \n",
      "---  ------                        -----  \n",
      " 0   parcelid                      int64  \n",
      " 1   airconditioningtypeid         float64\n",
      " 2   architecturalstyletypeid      float64\n",
      " 3   basementsqft                  float64\n",
      " 4   bathroomcnt                   float64\n",
      " 5   bedroomcnt                    float64\n",
      " 6   buildingclasstypeid           float64\n",
      " 7   buildingqualitytypeid         float64\n",
      " 8   calculatedbathnbr             float64\n",
      " 9   decktypeid                    float64\n",
      " 10  finishedfloor1squarefeet      float64\n",
      " 11  calculatedfinishedsquarefeet  float64\n",
      " 12  finishedsquarefeet12          float64\n",
      " 13  finishedsquarefeet13          float64\n",
      " 14  finishedsquarefeet15          float64\n",
      " 15  finishedsquarefeet50          float64\n",
      " 16  finishedsquarefeet6           float64\n",
      " 17  fips                          float64\n",
      " 18  fireplacecnt                  float64\n",
      " 19  fullbathcnt                   float64\n",
      " 20  garagecarcnt                  float64\n",
      " 21  garagetotalsqft               float64\n",
      " 22  hashottuborspa                object \n",
      " 23  heatingorsystemtypeid         float64\n",
      " 24  latitude                      float64\n",
      " 25  longitude                     float64\n",
      " 26  lotsizesquarefeet             float64\n",
      " 27  poolcnt                       float64\n",
      " 28  poolsizesum                   float64\n",
      " 29  pooltypeid10                  float64\n",
      " 30  pooltypeid2                   float64\n",
      " 31  pooltypeid7                   float64\n",
      " 32  propertycountylandusecode     object \n",
      " 33  propertylandusetypeid         float64\n",
      " 34  propertyzoningdesc            object \n",
      " 35  rawcensustractandblock        float64\n",
      " 36  regionidcity                  float64\n",
      " 37  regionidcounty                float64\n",
      " 38  regionidneighborhood          float64\n",
      " 39  regionidzip                   float64\n",
      " 40  roomcnt                       float64\n",
      " 41  storytypeid                   float64\n",
      " 42  threequarterbathnbr           float64\n",
      " 43  typeconstructiontypeid        float64\n",
      " 44  unitcnt                       float64\n",
      " 45  yardbuildingsqft17            float64\n",
      " 46  yardbuildingsqft26            float64\n",
      " 47  yearbuilt                     float64\n",
      " 48  numberofstories               float64\n",
      " 49  fireplaceflag                 object \n",
      " 50  structuretaxvaluedollarcnt    float64\n",
      " 51  taxvaluedollarcnt             float64\n",
      " 52  assessmentyear                float64\n",
      " 53  landtaxvaluedollarcnt         float64\n",
      " 54  taxamount                     float64\n",
      " 55  taxdelinquencyflag            object \n",
      " 56  taxdelinquencyyear            float64\n",
      " 57  censustractandblock           float64\n",
      "dtypes: float64(52), int64(1), object(5)\n",
      "memory usage: 1.3+ GB\n"
     ]
    }
   ],
   "source": [
    "properties.info()"
   ]
  },
  {
   "cell_type": "code",
   "execution_count": 4,
   "metadata": {},
   "outputs": [
    {
     "data": {
      "text/html": [
       "<div>\n",
       "<style scoped>\n",
       "    .dataframe tbody tr th:only-of-type {\n",
       "        vertical-align: middle;\n",
       "    }\n",
       "\n",
       "    .dataframe tbody tr th {\n",
       "        vertical-align: top;\n",
       "    }\n",
       "\n",
       "    .dataframe thead th {\n",
       "        text-align: right;\n",
       "    }\n",
       "</style>\n",
       "<table border=\"1\" class=\"dataframe\">\n",
       "  <thead>\n",
       "    <tr style=\"text-align: right;\">\n",
       "      <th></th>\n",
       "      <th>parcelid</th>\n",
       "      <th>logerror</th>\n",
       "      <th>transactiondate</th>\n",
       "    </tr>\n",
       "  </thead>\n",
       "  <tbody>\n",
       "    <tr>\n",
       "      <th>0</th>\n",
       "      <td>11016594</td>\n",
       "      <td>0.0276</td>\n",
       "      <td>2016-01-01</td>\n",
       "    </tr>\n",
       "    <tr>\n",
       "      <th>1</th>\n",
       "      <td>14366692</td>\n",
       "      <td>-0.1684</td>\n",
       "      <td>2016-01-01</td>\n",
       "    </tr>\n",
       "    <tr>\n",
       "      <th>2</th>\n",
       "      <td>12098116</td>\n",
       "      <td>-0.0040</td>\n",
       "      <td>2016-01-01</td>\n",
       "    </tr>\n",
       "    <tr>\n",
       "      <th>3</th>\n",
       "      <td>12643413</td>\n",
       "      <td>0.0218</td>\n",
       "      <td>2016-01-02</td>\n",
       "    </tr>\n",
       "    <tr>\n",
       "      <th>4</th>\n",
       "      <td>14432541</td>\n",
       "      <td>-0.0050</td>\n",
       "      <td>2016-01-02</td>\n",
       "    </tr>\n",
       "  </tbody>\n",
       "</table>\n",
       "</div>"
      ],
      "text/plain": [
       "   parcelid  logerror transactiondate\n",
       "0  11016594    0.0276      2016-01-01\n",
       "1  14366692   -0.1684      2016-01-01\n",
       "2  12098116   -0.0040      2016-01-01\n",
       "3  12643413    0.0218      2016-01-02\n",
       "4  14432541   -0.0050      2016-01-02"
      ]
     },
     "execution_count": 4,
     "metadata": {},
     "output_type": "execute_result"
    }
   ],
   "source": [
    "# train dataset (provided by Kaggle)\n",
    "\n",
    "train_raw = pd.read_csv('data/train_2016_v2.csv')\n",
    "\n",
    "train_raw.head()"
   ]
  },
  {
   "cell_type": "code",
   "execution_count": 5,
   "metadata": {},
   "outputs": [
    {
     "name": "stdout",
     "output_type": "stream",
     "text": [
      "<class 'pandas.core.frame.DataFrame'>\n",
      "RangeIndex: 90275 entries, 0 to 90274\n",
      "Data columns (total 3 columns):\n",
      " #   Column           Non-Null Count  Dtype  \n",
      "---  ------           --------------  -----  \n",
      " 0   parcelid         90275 non-null  int64  \n",
      " 1   logerror         90275 non-null  float64\n",
      " 2   transactiondate  90275 non-null  object \n",
      "dtypes: float64(1), int64(1), object(1)\n",
      "memory usage: 2.1+ MB\n"
     ]
    }
   ],
   "source": [
    "train_raw.info()"
   ]
  },
  {
   "cell_type": "markdown",
   "metadata": {},
   "source": [
    "## <a id = '4'>Data Quality Check</a>  "
   ]
  },
  {
   "cell_type": "code",
   "execution_count": 6,
   "metadata": {},
   "outputs": [
    {
     "data": {
      "text/plain": [
       "parcelid                        False\n",
       "airconditioningtypeid            True\n",
       "architecturalstyletypeid         True\n",
       "basementsqft                     True\n",
       "bathroomcnt                      True\n",
       "bedroomcnt                       True\n",
       "buildingclasstypeid              True\n",
       "buildingqualitytypeid            True\n",
       "calculatedbathnbr                True\n",
       "decktypeid                       True\n",
       "finishedfloor1squarefeet         True\n",
       "calculatedfinishedsquarefeet     True\n",
       "finishedsquarefeet12             True\n",
       "finishedsquarefeet13             True\n",
       "finishedsquarefeet15             True\n",
       "finishedsquarefeet50             True\n",
       "finishedsquarefeet6              True\n",
       "fips                             True\n",
       "fireplacecnt                     True\n",
       "fullbathcnt                      True\n",
       "garagecarcnt                     True\n",
       "garagetotalsqft                  True\n",
       "hashottuborspa                   True\n",
       "heatingorsystemtypeid            True\n",
       "latitude                         True\n",
       "longitude                        True\n",
       "lotsizesquarefeet                True\n",
       "poolcnt                          True\n",
       "poolsizesum                      True\n",
       "pooltypeid10                     True\n",
       "pooltypeid2                      True\n",
       "pooltypeid7                      True\n",
       "propertycountylandusecode        True\n",
       "propertylandusetypeid            True\n",
       "propertyzoningdesc               True\n",
       "rawcensustractandblock           True\n",
       "regionidcity                     True\n",
       "regionidcounty                   True\n",
       "regionidneighborhood             True\n",
       "regionidzip                      True\n",
       "roomcnt                          True\n",
       "storytypeid                      True\n",
       "threequarterbathnbr              True\n",
       "typeconstructiontypeid           True\n",
       "unitcnt                          True\n",
       "yardbuildingsqft17               True\n",
       "yardbuildingsqft26               True\n",
       "yearbuilt                        True\n",
       "numberofstories                  True\n",
       "fireplaceflag                    True\n",
       "structuretaxvaluedollarcnt       True\n",
       "taxvaluedollarcnt                True\n",
       "assessmentyear                   True\n",
       "landtaxvaluedollarcnt            True\n",
       "taxamount                        True\n",
       "taxdelinquencyflag               True\n",
       "taxdelinquencyyear               True\n",
       "censustractandblock              True\n",
       "dtype: bool"
      ]
     },
     "execution_count": 6,
     "metadata": {},
     "output_type": "execute_result"
    }
   ],
   "source": [
    "# check for null values\n",
    "\n",
    "properties.isnull().any()"
   ]
  },
  {
   "cell_type": "code",
   "execution_count": 7,
   "metadata": {},
   "outputs": [
    {
     "data": {
      "text/plain": [
       "parcelid           False\n",
       "logerror           False\n",
       "transactiondate    False\n",
       "dtype: bool"
      ]
     },
     "execution_count": 7,
     "metadata": {},
     "output_type": "execute_result"
    }
   ],
   "source": [
    "# check for null values\n",
    "\n",
    "train_raw.isnull().any()"
   ]
  },
  {
   "cell_type": "code",
   "execution_count": 8,
   "metadata": {},
   "outputs": [
    {
     "data": {
      "text/plain": [
       "0"
      ]
     },
     "execution_count": 8,
     "metadata": {},
     "output_type": "execute_result"
    }
   ],
   "source": [
    "# how many train records don't have a matching property\n",
    "\n",
    "len(set(train_raw.parcelid) - set(properties.parcelid))"
   ]
  },
  {
   "cell_type": "code",
   "execution_count": 9,
   "metadata": {},
   "outputs": [
    {
     "data": {
      "text/plain": [
       "2895067"
      ]
     },
     "execution_count": 9,
     "metadata": {},
     "output_type": "execute_result"
    }
   ],
   "source": [
    "# how many properties don't have a matching train record\n",
    "\n",
    "len(set(properties.parcelid) - set(train_raw.parcelid))"
   ]
  },
  {
   "cell_type": "markdown",
   "metadata": {},
   "source": [
    "So there are a lot of properties that don't have a corresponding target. Let's remove them for now to free up memory."
   ]
  },
  {
   "cell_type": "code",
   "execution_count": 10,
   "metadata": {},
   "outputs": [],
   "source": [
    "# merge the data and remove the raw datasets\n",
    "\n",
    "train_merged = pd.merge(train_raw, properties, how = 'left', on = 'parcelid')\n",
    "\n",
    "\n",
    "# deleting to free memory\n",
    "del train_raw\n",
    "del properties"
   ]
  },
  {
   "cell_type": "code",
   "execution_count": 11,
   "metadata": {},
   "outputs": [
    {
     "data": {
      "text/html": [
       "<div>\n",
       "<style scoped>\n",
       "    .dataframe tbody tr th:only-of-type {\n",
       "        vertical-align: middle;\n",
       "    }\n",
       "\n",
       "    .dataframe tbody tr th {\n",
       "        vertical-align: top;\n",
       "    }\n",
       "\n",
       "    .dataframe thead th {\n",
       "        text-align: right;\n",
       "    }\n",
       "</style>\n",
       "<table border=\"1\" class=\"dataframe\">\n",
       "  <thead>\n",
       "    <tr style=\"text-align: right;\">\n",
       "      <th></th>\n",
       "      <th>parcelid</th>\n",
       "      <th>logerror</th>\n",
       "      <th>transactiondate</th>\n",
       "      <th>airconditioningtypeid</th>\n",
       "      <th>architecturalstyletypeid</th>\n",
       "      <th>basementsqft</th>\n",
       "      <th>bathroomcnt</th>\n",
       "      <th>bedroomcnt</th>\n",
       "      <th>buildingclasstypeid</th>\n",
       "      <th>buildingqualitytypeid</th>\n",
       "      <th>...</th>\n",
       "      <th>numberofstories</th>\n",
       "      <th>fireplaceflag</th>\n",
       "      <th>structuretaxvaluedollarcnt</th>\n",
       "      <th>taxvaluedollarcnt</th>\n",
       "      <th>assessmentyear</th>\n",
       "      <th>landtaxvaluedollarcnt</th>\n",
       "      <th>taxamount</th>\n",
       "      <th>taxdelinquencyflag</th>\n",
       "      <th>taxdelinquencyyear</th>\n",
       "      <th>censustractandblock</th>\n",
       "    </tr>\n",
       "  </thead>\n",
       "  <tbody>\n",
       "    <tr>\n",
       "      <th>0</th>\n",
       "      <td>11016594</td>\n",
       "      <td>0.0276</td>\n",
       "      <td>2016-01-01</td>\n",
       "      <td>1.0</td>\n",
       "      <td>NaN</td>\n",
       "      <td>NaN</td>\n",
       "      <td>2.0</td>\n",
       "      <td>3.0</td>\n",
       "      <td>NaN</td>\n",
       "      <td>4.0</td>\n",
       "      <td>...</td>\n",
       "      <td>NaN</td>\n",
       "      <td>NaN</td>\n",
       "      <td>122754.0</td>\n",
       "      <td>360170.0</td>\n",
       "      <td>2015.0</td>\n",
       "      <td>237416.0</td>\n",
       "      <td>6735.88</td>\n",
       "      <td>NaN</td>\n",
       "      <td>NaN</td>\n",
       "      <td>6.037107e+13</td>\n",
       "    </tr>\n",
       "    <tr>\n",
       "      <th>1</th>\n",
       "      <td>14366692</td>\n",
       "      <td>-0.1684</td>\n",
       "      <td>2016-01-01</td>\n",
       "      <td>NaN</td>\n",
       "      <td>NaN</td>\n",
       "      <td>NaN</td>\n",
       "      <td>3.5</td>\n",
       "      <td>4.0</td>\n",
       "      <td>NaN</td>\n",
       "      <td>NaN</td>\n",
       "      <td>...</td>\n",
       "      <td>NaN</td>\n",
       "      <td>NaN</td>\n",
       "      <td>346458.0</td>\n",
       "      <td>585529.0</td>\n",
       "      <td>2015.0</td>\n",
       "      <td>239071.0</td>\n",
       "      <td>10153.02</td>\n",
       "      <td>NaN</td>\n",
       "      <td>NaN</td>\n",
       "      <td>NaN</td>\n",
       "    </tr>\n",
       "    <tr>\n",
       "      <th>2</th>\n",
       "      <td>12098116</td>\n",
       "      <td>-0.0040</td>\n",
       "      <td>2016-01-01</td>\n",
       "      <td>1.0</td>\n",
       "      <td>NaN</td>\n",
       "      <td>NaN</td>\n",
       "      <td>3.0</td>\n",
       "      <td>2.0</td>\n",
       "      <td>NaN</td>\n",
       "      <td>4.0</td>\n",
       "      <td>...</td>\n",
       "      <td>NaN</td>\n",
       "      <td>NaN</td>\n",
       "      <td>61994.0</td>\n",
       "      <td>119906.0</td>\n",
       "      <td>2015.0</td>\n",
       "      <td>57912.0</td>\n",
       "      <td>11484.48</td>\n",
       "      <td>NaN</td>\n",
       "      <td>NaN</td>\n",
       "      <td>6.037464e+13</td>\n",
       "    </tr>\n",
       "    <tr>\n",
       "      <th>3</th>\n",
       "      <td>12643413</td>\n",
       "      <td>0.0218</td>\n",
       "      <td>2016-01-02</td>\n",
       "      <td>1.0</td>\n",
       "      <td>NaN</td>\n",
       "      <td>NaN</td>\n",
       "      <td>2.0</td>\n",
       "      <td>2.0</td>\n",
       "      <td>NaN</td>\n",
       "      <td>4.0</td>\n",
       "      <td>...</td>\n",
       "      <td>NaN</td>\n",
       "      <td>NaN</td>\n",
       "      <td>171518.0</td>\n",
       "      <td>244880.0</td>\n",
       "      <td>2015.0</td>\n",
       "      <td>73362.0</td>\n",
       "      <td>3048.74</td>\n",
       "      <td>NaN</td>\n",
       "      <td>NaN</td>\n",
       "      <td>6.037296e+13</td>\n",
       "    </tr>\n",
       "    <tr>\n",
       "      <th>4</th>\n",
       "      <td>14432541</td>\n",
       "      <td>-0.0050</td>\n",
       "      <td>2016-01-02</td>\n",
       "      <td>NaN</td>\n",
       "      <td>NaN</td>\n",
       "      <td>NaN</td>\n",
       "      <td>2.5</td>\n",
       "      <td>4.0</td>\n",
       "      <td>NaN</td>\n",
       "      <td>NaN</td>\n",
       "      <td>...</td>\n",
       "      <td>2.0</td>\n",
       "      <td>NaN</td>\n",
       "      <td>169574.0</td>\n",
       "      <td>434551.0</td>\n",
       "      <td>2015.0</td>\n",
       "      <td>264977.0</td>\n",
       "      <td>5488.96</td>\n",
       "      <td>NaN</td>\n",
       "      <td>NaN</td>\n",
       "      <td>6.059042e+13</td>\n",
       "    </tr>\n",
       "  </tbody>\n",
       "</table>\n",
       "<p>5 rows × 60 columns</p>\n",
       "</div>"
      ],
      "text/plain": [
       "   parcelid  logerror transactiondate  airconditioningtypeid  \\\n",
       "0  11016594    0.0276      2016-01-01                    1.0   \n",
       "1  14366692   -0.1684      2016-01-01                    NaN   \n",
       "2  12098116   -0.0040      2016-01-01                    1.0   \n",
       "3  12643413    0.0218      2016-01-02                    1.0   \n",
       "4  14432541   -0.0050      2016-01-02                    NaN   \n",
       "\n",
       "   architecturalstyletypeid  basementsqft  bathroomcnt  bedroomcnt  \\\n",
       "0                       NaN           NaN          2.0         3.0   \n",
       "1                       NaN           NaN          3.5         4.0   \n",
       "2                       NaN           NaN          3.0         2.0   \n",
       "3                       NaN           NaN          2.0         2.0   \n",
       "4                       NaN           NaN          2.5         4.0   \n",
       "\n",
       "   buildingclasstypeid  buildingqualitytypeid  ...  numberofstories  \\\n",
       "0                  NaN                    4.0  ...              NaN   \n",
       "1                  NaN                    NaN  ...              NaN   \n",
       "2                  NaN                    4.0  ...              NaN   \n",
       "3                  NaN                    4.0  ...              NaN   \n",
       "4                  NaN                    NaN  ...              2.0   \n",
       "\n",
       "   fireplaceflag  structuretaxvaluedollarcnt  taxvaluedollarcnt  \\\n",
       "0            NaN                    122754.0           360170.0   \n",
       "1            NaN                    346458.0           585529.0   \n",
       "2            NaN                     61994.0           119906.0   \n",
       "3            NaN                    171518.0           244880.0   \n",
       "4            NaN                    169574.0           434551.0   \n",
       "\n",
       "   assessmentyear  landtaxvaluedollarcnt  taxamount  taxdelinquencyflag  \\\n",
       "0          2015.0               237416.0    6735.88                 NaN   \n",
       "1          2015.0               239071.0   10153.02                 NaN   \n",
       "2          2015.0                57912.0   11484.48                 NaN   \n",
       "3          2015.0                73362.0    3048.74                 NaN   \n",
       "4          2015.0               264977.0    5488.96                 NaN   \n",
       "\n",
       "   taxdelinquencyyear  censustractandblock  \n",
       "0                 NaN         6.037107e+13  \n",
       "1                 NaN                  NaN  \n",
       "2                 NaN         6.037464e+13  \n",
       "3                 NaN         6.037296e+13  \n",
       "4                 NaN         6.059042e+13  \n",
       "\n",
       "[5 rows x 60 columns]"
      ]
     },
     "execution_count": 11,
     "metadata": {},
     "output_type": "execute_result"
    }
   ],
   "source": [
    "train_merged.head()"
   ]
  },
  {
   "cell_type": "code",
   "execution_count": 12,
   "metadata": {},
   "outputs": [
    {
     "data": {
      "text/plain": [
       "(90275, 60)"
      ]
     },
     "execution_count": 12,
     "metadata": {},
     "output_type": "execute_result"
    }
   ],
   "source": [
    "train_merged.shape"
   ]
  },
  {
   "cell_type": "code",
   "execution_count": 13,
   "metadata": {},
   "outputs": [
    {
     "data": {
      "text/plain": [
       "False"
      ]
     },
     "execution_count": 13,
     "metadata": {},
     "output_type": "execute_result"
    }
   ],
   "source": [
    "# is there only one record per property? \n",
    "\n",
    "train_merged.parcelid.nunique() == len(train_merged)"
   ]
  },
  {
   "cell_type": "markdown",
   "metadata": {},
   "source": [
    "Seems like there are properties with more than one transaction. Let's dive deeper into this."
   ]
  },
  {
   "cell_type": "code",
   "execution_count": 14,
   "metadata": {},
   "outputs": [],
   "source": [
    "from helpers import check_duplicates"
   ]
  },
  {
   "cell_type": "code",
   "execution_count": 15,
   "metadata": {},
   "outputs": [
    {
     "name": "stdout",
     "output_type": "stream",
     "text": [
      "124\n"
     ]
    }
   ],
   "source": [
    "duplicates, non_duplicates = check_duplicates(train_merged)\n",
    "\n",
    "print(duplicates.parcelid.nunique())"
   ]
  },
  {
   "cell_type": "markdown",
   "metadata": {},
   "source": [
    "It appears that some homes were sold twice during the period that the training data was captured. We have a few options here, and it's just as imporatant to discuss the tradeoffs between them as choosing the \"right\" one.\n",
    "\n",
    "We know that we don't want the model to overweight properties that have more than one record because we want it to perform well on our holdout set. On the other hand, there is valuable information in knowing that the only difference between two records (besides our target variable) is the date field.\n",
    "\n",
    "So for constructing the dataset for training our model, we could:\n",
    "\n",
    "- Use the most recent sales record\n",
    "- Use the oldest sales record\n",
    "- Use both sales records\n",
    "- Use a random sales record\n",
    "- Engineer a feature from the information contained, and then choose one of the above\n",
    "\n",
    "Note that only a hundred or so of the 90,000-ish properties have multiple transactions, so it probably isn't a big deal whatever we choose, so lets go with a simple solution for now, which is taking a random sale record for each parcel with more than one sale record."
   ]
  },
  {
   "cell_type": "code",
   "execution_count": 16,
   "metadata": {},
   "outputs": [],
   "source": [
    "from helpers import filter_duplicates"
   ]
  },
  {
   "cell_type": "code",
   "execution_count": 17,
   "metadata": {},
   "outputs": [],
   "source": [
    "train_unique = filter_duplicates(train_merged)"
   ]
  },
  {
   "cell_type": "code",
   "execution_count": 18,
   "metadata": {},
   "outputs": [
    {
     "data": {
      "text/plain": [
       "(90150, 60)"
      ]
     },
     "execution_count": 18,
     "metadata": {},
     "output_type": "execute_result"
    }
   ],
   "source": [
    "train_unique.shape"
   ]
  },
  {
   "cell_type": "code",
   "execution_count": 19,
   "metadata": {},
   "outputs": [],
   "source": [
    "# check if the same properties exist in the original dataset as the reduced dataset\n",
    "\n",
    "assert set(train_unique.parcelid) == set(train_merged.parcelid)"
   ]
  },
  {
   "cell_type": "markdown",
   "metadata": {},
   "source": [
    "We can proceed to explore the data now!"
   ]
  },
  {
   "cell_type": "markdown",
   "metadata": {},
   "source": [
    "## <a id = '5'>Explore Data</a>  "
   ]
  },
  {
   "cell_type": "markdown",
   "metadata": {},
   "source": [
    "### <a id = '51'>Correlation Values</a>  "
   ]
  },
  {
   "cell_type": "code",
   "execution_count": 20,
   "metadata": {},
   "outputs": [
    {
     "data": {
      "text/plain": [
       "parcelid                        0.004717\n",
       "logerror                        1.000000\n",
       "airconditioningtypeid           0.005286\n",
       "architecturalstyletypeid       -0.004354\n",
       "basementsqft                    0.253395\n",
       "bathroomcnt                     0.028188\n",
       "bedroomcnt                      0.025986\n",
       "buildingclasstypeid                  NaN\n",
       "buildingqualitytypeid          -0.009709\n",
       "calculatedbathnbr               0.029405\n",
       "decktypeid                           NaN\n",
       "finishedfloor1squarefeet        0.026066\n",
       "calculatedfinishedsquarefeet    0.038971\n",
       "finishedsquarefeet12            0.042018\n",
       "finishedsquarefeet13            0.034715\n",
       "finishedsquarefeet15            0.019466\n",
       "finishedsquarefeet50            0.023446\n",
       "finishedsquarefeet6             0.043032\n",
       "fips                            0.008269\n",
       "fireplacecnt                    0.033127\n",
       "fullbathcnt                     0.028817\n",
       "garagecarcnt                    0.026411\n",
       "garagetotalsqft                 0.023845\n",
       "heatingorsystemtypeid          -0.024706\n",
       "latitude                        0.004973\n",
       "longitude                      -0.003628\n",
       "lotsizesquarefeet               0.004777\n",
       "poolcnt                              NaN\n",
       "poolsizesum                    -0.000447\n",
       "pooltypeid10                         NaN\n",
       "pooltypeid2                          NaN\n",
       "pooltypeid7                          NaN\n",
       "propertylandusetypeid           0.000854\n",
       "rawcensustractandblock          0.008282\n",
       "regionidcity                   -0.002154\n",
       "regionidcounty                  0.000469\n",
       "regionidneighborhood           -0.004837\n",
       "regionidzip                    -0.006532\n",
       "roomcnt                         0.005872\n",
       "storytypeid                          NaN\n",
       "threequarterbathnbr             0.034077\n",
       "typeconstructiontypeid         -0.022440\n",
       "unitcnt                        -0.003805\n",
       "yardbuildingsqft17             -0.023720\n",
       "yardbuildingsqft26              0.086179\n",
       "yearbuilt                       0.017182\n",
       "numberofstories                 0.013162\n",
       "structuretaxvaluedollarcnt      0.020692\n",
       "taxvaluedollarcnt               0.005618\n",
       "assessmentyear                       NaN\n",
       "landtaxvaluedollarcnt          -0.003573\n",
       "taxamount                      -0.007386\n",
       "taxdelinquencyyear             -0.012973\n",
       "censustractandblock             0.008848\n",
       "Name: logerror, dtype: float64"
      ]
     },
     "execution_count": 20,
     "metadata": {},
     "output_type": "execute_result"
    }
   ],
   "source": [
    "corr = train_unique.corr()\n",
    "corr['logerror']"
   ]
  },
  {
   "cell_type": "code",
   "execution_count": 21,
   "metadata": {
    "scrolled": true
   },
   "outputs": [],
   "source": [
    "corr_values = corr['logerror'].sort_values(ascending = False)"
   ]
  },
  {
   "cell_type": "code",
   "execution_count": 22,
   "metadata": {},
   "outputs": [],
   "source": [
    "corr_values.dropna(inplace = True)"
   ]
  },
  {
   "cell_type": "markdown",
   "metadata": {},
   "source": [
    "Let's drop variables that have very weak correlation to the target variable."
   ]
  },
  {
   "cell_type": "code",
   "execution_count": 23,
   "metadata": {},
   "outputs": [],
   "source": [
    "indexNames = corr_values[ (corr_values <= 0.01) & (corr_values >= -0.01) ].index"
   ]
  },
  {
   "cell_type": "code",
   "execution_count": 24,
   "metadata": {},
   "outputs": [
    {
     "data": {
      "text/plain": [
       "Index(['censustractandblock', 'rawcensustractandblock', 'fips', 'roomcnt',\n",
       "       'taxvaluedollarcnt', 'airconditioningtypeid', 'latitude',\n",
       "       'lotsizesquarefeet', 'parcelid', 'propertylandusetypeid',\n",
       "       'regionidcounty', 'poolsizesum', 'regionidcity',\n",
       "       'landtaxvaluedollarcnt', 'longitude', 'unitcnt',\n",
       "       'architecturalstyletypeid', 'regionidneighborhood', 'regionidzip',\n",
       "       'taxamount', 'buildingqualitytypeid'],\n",
       "      dtype='object')"
      ]
     },
     "execution_count": 24,
     "metadata": {},
     "output_type": "execute_result"
    }
   ],
   "source": [
    "indexNames"
   ]
  },
  {
   "cell_type": "code",
   "execution_count": 25,
   "metadata": {},
   "outputs": [],
   "source": [
    "corr_values.drop(indexNames, inplace = True)"
   ]
  },
  {
   "cell_type": "code",
   "execution_count": 26,
   "metadata": {},
   "outputs": [
    {
     "data": {
      "text/plain": [
       "logerror                        1.000000\n",
       "basementsqft                    0.253395\n",
       "yardbuildingsqft26              0.086179\n",
       "finishedsquarefeet6             0.043032\n",
       "finishedsquarefeet12            0.042018\n",
       "calculatedfinishedsquarefeet    0.038971\n",
       "finishedsquarefeet13            0.034715\n",
       "threequarterbathnbr             0.034077\n",
       "fireplacecnt                    0.033127\n",
       "calculatedbathnbr               0.029405\n",
       "fullbathcnt                     0.028817\n",
       "bathroomcnt                     0.028188\n",
       "garagecarcnt                    0.026411\n",
       "finishedfloor1squarefeet        0.026066\n",
       "bedroomcnt                      0.025986\n",
       "garagetotalsqft                 0.023845\n",
       "finishedsquarefeet50            0.023446\n",
       "structuretaxvaluedollarcnt      0.020692\n",
       "finishedsquarefeet15            0.019466\n",
       "yearbuilt                       0.017182\n",
       "numberofstories                 0.013162\n",
       "taxdelinquencyyear             -0.012973\n",
       "typeconstructiontypeid         -0.022440\n",
       "yardbuildingsqft17             -0.023720\n",
       "heatingorsystemtypeid          -0.024706\n",
       "Name: logerror, dtype: float64"
      ]
     },
     "execution_count": 26,
     "metadata": {},
     "output_type": "execute_result"
    }
   ],
   "source": [
    "corr_values"
   ]
  },
  {
   "cell_type": "code",
   "execution_count": 27,
   "metadata": {},
   "outputs": [],
   "source": [
    "# prepare list of columns to drop for preprocessing\n",
    "\n",
    "drop_cols = list(indexNames)\n",
    "\n",
    "# remove the below features, to be used for feature engineering\n",
    "\n",
    "drop_cols.remove('latitude')\n",
    "drop_cols.remove('longitude')\n",
    "drop_cols.remove('roomcnt')\n",
    "drop_cols.remove('taxvaluedollarcnt')\n",
    "drop_cols.remove('landtaxvaluedollarcnt')\n",
    "drop_cols.remove('taxamount')\n",
    "drop_cols.remove('lotsizesquarefeet')"
   ]
  },
  {
   "cell_type": "code",
   "execution_count": 28,
   "metadata": {},
   "outputs": [
    {
     "data": {
      "text/plain": [
       "(90150, 46)"
      ]
     },
     "execution_count": 28,
     "metadata": {},
     "output_type": "execute_result"
    }
   ],
   "source": [
    "train_unique.drop(drop_cols, axis = 1, inplace = True)\n",
    "\n",
    "train_unique.shape"
   ]
  },
  {
   "cell_type": "markdown",
   "metadata": {},
   "source": [
    "### <a id = '52'>Categorical Variables</a>  "
   ]
  },
  {
   "cell_type": "code",
   "execution_count": 29,
   "metadata": {},
   "outputs": [
    {
     "data": {
      "text/plain": [
       "Index(['transactiondate', 'hashottuborspa', 'propertycountylandusecode',\n",
       "       'propertyzoningdesc', 'fireplaceflag', 'taxdelinquencyflag'],\n",
       "      dtype='object')"
      ]
     },
     "execution_count": 29,
     "metadata": {},
     "output_type": "execute_result"
    }
   ],
   "source": [
    "categorical_cols = train_unique.dtypes[train_unique.dtypes == 'object'].index\n",
    "\n",
    "categorical_cols"
   ]
  },
  {
   "cell_type": "code",
   "execution_count": 30,
   "metadata": {},
   "outputs": [
    {
     "name": "stdout",
     "output_type": "stream",
     "text": [
      "Number of unique values in transactiondate is 352\n",
      "Number of unique values in hashottuborspa is 1\n",
      "Number of unique values in propertycountylandusecode is 77\n",
      "Number of unique values in propertyzoningdesc is 1996\n",
      "Number of unique values in fireplaceflag is 1\n",
      "Number of unique values in taxdelinquencyflag is 1\n"
     ]
    }
   ],
   "source": [
    "for i in categorical_cols:\n",
    "    unique_val = train_unique[i].nunique()\n",
    "    print('Number of unique values in {} is {}'.format(i, unique_val))"
   ]
  },
  {
   "cell_type": "markdown",
   "metadata": {},
   "source": [
    "Checking categorical variables with one value."
   ]
  },
  {
   "cell_type": "code",
   "execution_count": 31,
   "metadata": {},
   "outputs": [
    {
     "data": {
      "text/plain": [
       "True    2363\n",
       "Name: hashottuborspa, dtype: int64"
      ]
     },
     "execution_count": 31,
     "metadata": {},
     "output_type": "execute_result"
    }
   ],
   "source": [
    "train_unique['hashottuborspa'].value_counts()"
   ]
  },
  {
   "cell_type": "code",
   "execution_count": 32,
   "metadata": {},
   "outputs": [
    {
     "data": {
      "text/plain": [
       "False    87787\n",
       "True      2363\n",
       "Name: hashottuborspa, dtype: int64"
      ]
     },
     "execution_count": 32,
     "metadata": {},
     "output_type": "execute_result"
    }
   ],
   "source": [
    "# fill null values for 'hashottuborspa'\n",
    "\n",
    "train_unique['hashottuborspa'].fillna('False', inplace = True)\n",
    "train_unique['hashottuborspa'].value_counts()"
   ]
  },
  {
   "cell_type": "code",
   "execution_count": 33,
   "metadata": {},
   "outputs": [
    {
     "data": {
      "text/plain": [
       "True    220\n",
       "Name: fireplaceflag, dtype: int64"
      ]
     },
     "execution_count": 33,
     "metadata": {},
     "output_type": "execute_result"
    }
   ],
   "source": [
    "train_unique['fireplaceflag'].value_counts()"
   ]
  },
  {
   "cell_type": "code",
   "execution_count": 34,
   "metadata": {},
   "outputs": [
    {
     "data": {
      "text/plain": [
       "False    89930\n",
       "True       220\n",
       "Name: fireplaceflag, dtype: int64"
      ]
     },
     "execution_count": 34,
     "metadata": {},
     "output_type": "execute_result"
    }
   ],
   "source": [
    "# fill null values for 'fireplaceflag'\n",
    "\n",
    "train_unique['fireplaceflag'].fillna('False', inplace = True)\n",
    "train_unique['fireplaceflag'].value_counts()"
   ]
  },
  {
   "cell_type": "code",
   "execution_count": 35,
   "metadata": {},
   "outputs": [
    {
     "data": {
      "text/plain": [
       "Y    1775\n",
       "Name: taxdelinquencyflag, dtype: int64"
      ]
     },
     "execution_count": 35,
     "metadata": {},
     "output_type": "execute_result"
    }
   ],
   "source": [
    "train_unique['taxdelinquencyflag'].value_counts()"
   ]
  },
  {
   "cell_type": "code",
   "execution_count": 36,
   "metadata": {},
   "outputs": [
    {
     "data": {
      "text/plain": [
       "N    88375\n",
       "Y     1775\n",
       "Name: taxdelinquencyflag, dtype: int64"
      ]
     },
     "execution_count": 36,
     "metadata": {},
     "output_type": "execute_result"
    }
   ],
   "source": [
    "# fill null values for 'taxdelinquencyflag'\n",
    "\n",
    "train_unique['taxdelinquencyflag'].fillna('N', inplace = True)\n",
    "train_unique['taxdelinquencyflag'].value_counts()"
   ]
  },
  {
   "cell_type": "code",
   "execution_count": 37,
   "metadata": {},
   "outputs": [
    {
     "data": {
      "text/plain": [
       "(90150, 44)"
      ]
     },
     "execution_count": 37,
     "metadata": {},
     "output_type": "execute_result"
    }
   ],
   "source": [
    "# drop 'propertycountylandusecode' and 'propertyzoningdesc' (high number of unique values)\n",
    "\n",
    "train_unique.drop(['propertycountylandusecode', 'propertyzoningdesc'], axis = 1, inplace = True)\n",
    "\n",
    "train_unique.shape"
   ]
  },
  {
   "cell_type": "code",
   "execution_count": 38,
   "metadata": {},
   "outputs": [
    {
     "data": {
      "text/plain": [
       "['censustractandblock',\n",
       " 'rawcensustractandblock',\n",
       " 'fips',\n",
       " 'airconditioningtypeid',\n",
       " 'parcelid',\n",
       " 'propertylandusetypeid',\n",
       " 'regionidcounty',\n",
       " 'poolsizesum',\n",
       " 'regionidcity',\n",
       " 'unitcnt',\n",
       " 'architecturalstyletypeid',\n",
       " 'regionidneighborhood',\n",
       " 'regionidzip',\n",
       " 'buildingqualitytypeid',\n",
       " 'propertycountylandusecode',\n",
       " 'propertyzoningdesc']"
      ]
     },
     "execution_count": 38,
     "metadata": {},
     "output_type": "execute_result"
    }
   ],
   "source": [
    "# drop columns from dataset\n",
    "\n",
    "drop_cols.extend(['propertycountylandusecode', 'propertyzoningdesc'])\n",
    "\n",
    "drop_cols"
   ]
  },
  {
   "cell_type": "code",
   "execution_count": 39,
   "metadata": {},
   "outputs": [
    {
     "data": {
      "text/plain": [
       "taxamount                       85110\n",
       "latitude                        73312\n",
       "longitude                       71900\n",
       "landtaxvaluedollarcnt           57066\n",
       "taxvaluedollarcnt               55938\n",
       "structuretaxvaluedollarcnt      55450\n",
       "lotsizesquarefeet               20016\n",
       "calculatedfinishedsquarefeet     5102\n",
       "finishedsquarefeet12             4982\n",
       "finishedsquarefeet15             1915\n",
       "finishedsquarefeet50             1898\n",
       "logerror                         1893\n",
       "finishedfloor1squarefeet         1886\n",
       "garagetotalsqft                   870\n",
       "yardbuildingsqft17                567\n",
       "finishedsquarefeet6               360\n",
       "transactiondate                   352\n",
       "yearbuilt                         130\n",
       "yardbuildingsqft26                 73\n",
       "basementsqft                       39\n",
       "bathroomcnt                        23\n",
       "calculatedbathnbr                  22\n",
       "bedroomcnt                         17\n",
       "roomcnt                            17\n",
       "garagecarcnt                       15\n",
       "fullbathcnt                        14\n",
       "heatingorsystemtypeid              12\n",
       "finishedsquarefeet13               11\n",
       "taxdelinquencyyear                 11\n",
       "fireplacecnt                        5\n",
       "threequarterbathnbr                 4\n",
       "numberofstories                     4\n",
       "typeconstructiontypeid              3\n",
       "hashottuborspa                      2\n",
       "fireplaceflag                       2\n",
       "taxdelinquencyflag                  2\n",
       "assessmentyear                      1\n",
       "decktypeid                          1\n",
       "poolcnt                             1\n",
       "buildingclasstypeid                 1\n",
       "pooltypeid10                        1\n",
       "pooltypeid2                         1\n",
       "pooltypeid7                         1\n",
       "storytypeid                         1\n",
       "dtype: int64"
      ]
     },
     "execution_count": 39,
     "metadata": {},
     "output_type": "execute_result"
    }
   ],
   "source": [
    "# number of unique values\n",
    "\n",
    "train_unique.nunique().sort_values(ascending = False)"
   ]
  },
  {
   "cell_type": "markdown",
   "metadata": {},
   "source": [
    "Let's look at the variables concerning 'pool' next."
   ]
  },
  {
   "cell_type": "code",
   "execution_count": 40,
   "metadata": {},
   "outputs": [
    {
     "data": {
      "text/plain": [
       "1.0    17876\n",
       "Name: poolcnt, dtype: int64"
      ]
     },
     "execution_count": 40,
     "metadata": {},
     "output_type": "execute_result"
    }
   ],
   "source": [
    "train_unique['poolcnt'].value_counts()"
   ]
  },
  {
   "cell_type": "markdown",
   "metadata": {},
   "source": [
    "Since all the properties that have a pool have only one pool, we can replace the 4 variables on pools with a categorical variable 'has_pool'."
   ]
  },
  {
   "cell_type": "code",
   "execution_count": 41,
   "metadata": {},
   "outputs": [
    {
     "data": {
      "text/plain": [
       "No     72274\n",
       "Yes    17876\n",
       "Name: has_pool, dtype: int64"
      ]
     },
     "execution_count": 41,
     "metadata": {},
     "output_type": "execute_result"
    }
   ],
   "source": [
    "train_unique['has_pool'] = ['Yes' if i == 1 else 'No' for i in train_unique['poolcnt']]\n",
    "\n",
    "train_unique['has_pool'].value_counts()"
   ]
  },
  {
   "cell_type": "code",
   "execution_count": 42,
   "metadata": {},
   "outputs": [
    {
     "data": {
      "text/plain": [
       "(90150, 41)"
      ]
     },
     "execution_count": 42,
     "metadata": {},
     "output_type": "execute_result"
    }
   ],
   "source": [
    "train_unique.drop(['poolcnt', 'pooltypeid10', 'pooltypeid2', 'pooltypeid7'], \n",
    "                 axis = 1, inplace = True)\n",
    "\n",
    "train_unique.shape"
   ]
  },
  {
   "cell_type": "markdown",
   "metadata": {},
   "source": [
    "Drop values with zero correlation to the target variable."
   ]
  },
  {
   "cell_type": "code",
   "execution_count": 43,
   "metadata": {},
   "outputs": [
    {
     "data": {
      "text/plain": [
       "(90150, 38)"
      ]
     },
     "execution_count": 43,
     "metadata": {},
     "output_type": "execute_result"
    }
   ],
   "source": [
    "train_unique.drop(['storytypeid', 'assessmentyear', 'decktypeid'], \n",
    "                 axis = 1, inplace = True)\n",
    "\n",
    "train_unique.shape"
   ]
  },
  {
   "cell_type": "code",
   "execution_count": 44,
   "metadata": {},
   "outputs": [],
   "source": [
    "drop_cols.extend(['poolcnt', 'pooltypeid10', 'pooltypeid2', 'pooltypeid7', \n",
    "                     'storytypeid', 'assessmentyear', 'decktypeid'])"
   ]
  },
  {
   "cell_type": "code",
   "execution_count": 45,
   "metadata": {},
   "outputs": [
    {
     "data": {
      "text/plain": [
       "['censustractandblock',\n",
       " 'rawcensustractandblock',\n",
       " 'fips',\n",
       " 'airconditioningtypeid',\n",
       " 'parcelid',\n",
       " 'propertylandusetypeid',\n",
       " 'regionidcounty',\n",
       " 'poolsizesum',\n",
       " 'regionidcity',\n",
       " 'unitcnt',\n",
       " 'architecturalstyletypeid',\n",
       " 'regionidneighborhood',\n",
       " 'regionidzip',\n",
       " 'buildingqualitytypeid',\n",
       " 'propertycountylandusecode',\n",
       " 'propertyzoningdesc',\n",
       " 'poolcnt',\n",
       " 'pooltypeid10',\n",
       " 'pooltypeid2',\n",
       " 'pooltypeid7',\n",
       " 'storytypeid',\n",
       " 'assessmentyear',\n",
       " 'decktypeid']"
      ]
     },
     "execution_count": 45,
     "metadata": {},
     "output_type": "execute_result"
    }
   ],
   "source": [
    "drop_cols"
   ]
  },
  {
   "cell_type": "code",
   "execution_count": 46,
   "metadata": {},
   "outputs": [],
   "source": [
    "train_unique.to_csv('data/train_cleaned.csv')"
   ]
  },
  {
   "cell_type": "markdown",
   "metadata": {},
   "source": [
    "### <a id = '53'>Create a Test Set</a>  "
   ]
  },
  {
   "cell_type": "code",
   "execution_count": 47,
   "metadata": {},
   "outputs": [],
   "source": [
    "# split features and target variable\n",
    "    \n",
    "target = train_unique['logerror']\n",
    "features = train_unique.drop(['logerror'], axis = 1)"
   ]
  },
  {
   "cell_type": "code",
   "execution_count": 48,
   "metadata": {},
   "outputs": [],
   "source": [
    "features_train, features_test, target_train, target_test = train_test_split(features, \n",
    "                                                                             target,\n",
    "                                                                             test_size = 0.2, \n",
    "                                                                             random_state = 42, \n",
    "                                                                             shuffle = True)"
   ]
  },
  {
   "cell_type": "code",
   "execution_count": 49,
   "metadata": {},
   "outputs": [
    {
     "data": {
      "text/plain": [
       "(72120, 37)"
      ]
     },
     "execution_count": 49,
     "metadata": {},
     "output_type": "execute_result"
    }
   ],
   "source": [
    "features_train.shape"
   ]
  },
  {
   "cell_type": "code",
   "execution_count": 50,
   "metadata": {},
   "outputs": [
    {
     "data": {
      "text/plain": [
       "84051   -0.0502\n",
       "21336   -0.1188\n",
       "3793     0.0334\n",
       "78283   -0.0010\n",
       "24650   -0.0502\n",
       "Name: logerror, dtype: float64"
      ]
     },
     "execution_count": 50,
     "metadata": {},
     "output_type": "execute_result"
    }
   ],
   "source": [
    "target_train.head()"
   ]
  },
  {
   "cell_type": "code",
   "execution_count": 51,
   "metadata": {
    "scrolled": false
   },
   "outputs": [
    {
     "data": {
      "image/png": "[encoded data removed]",
      "text/plain": [
       "<Figure size 1152x2160 with 36 Axes>"
      ]
     },
     "metadata": {},
     "output_type": "display_data"
    }
   ],
   "source": [
    "# check distribution\n",
    "\n",
    "features_train.hist(figsize = (16, 30), bins = 20);"
   ]
  },
  {
   "cell_type": "markdown",
   "metadata": {},
   "source": [
    "## <a id = '6'>Prep Data for Machine Learning</a>  "
   ]
  },
  {
   "cell_type": "markdown",
   "metadata": {},
   "source": [
    "### <a id = '61'>Missing Values</a>  \n",
    "\n",
    "An easy imputation strategy would be to make an educated assumption that all the numeric variables are positive and encode missing values with a -1. Let's check that assumption:"
   ]
  },
  {
   "cell_type": "code",
   "execution_count": 52,
   "metadata": {},
   "outputs": [
    {
     "data": {
      "text/plain": [
       "basementsqft                     100.00\n",
       "buildingclasstypeid                4.00\n",
       "calculatedbathnbr                  1.00\n",
       "finishedfloor1squarefeet          47.00\n",
       "calculatedfinishedsquarefeet       2.00\n",
       "finishedsquarefeet12               2.00\n",
       "finishedsquarefeet13            1056.00\n",
       "finishedsquarefeet15             560.00\n",
       "finishedsquarefeet50              47.00\n",
       "finishedsquarefeet6              300.00\n",
       "fireplacecnt                       1.00\n",
       "fullbathcnt                        1.00\n",
       "garagecarcnt                       0.00\n",
       "garagetotalsqft                    0.00\n",
       "heatingorsystemtypeid              1.00\n",
       "lotsizesquarefeet                435.00\n",
       "threequarterbathnbr                1.00\n",
       "typeconstructiontypeid             4.00\n",
       "yardbuildingsqft17                25.00\n",
       "yardbuildingsqft26                34.00\n",
       "yearbuilt                       1885.00\n",
       "numberofstories                    1.00\n",
       "structuretaxvaluedollarcnt       100.00\n",
       "taxvaluedollarcnt                 22.00\n",
       "landtaxvaluedollarcnt             22.00\n",
       "taxamount                         49.08\n",
       "taxdelinquencyyear                 6.00\n",
       "dtype: float64"
      ]
     },
     "execution_count": 52,
     "metadata": {},
     "output_type": "execute_result"
    }
   ],
   "source": [
    "features_train.loc[:, features_train.isna().sum() > 0].min()"
   ]
  },
  {
   "cell_type": "markdown",
   "metadata": {},
   "source": [
    "There are no negative values, so we can go ahead and fill the null values with -1."
   ]
  },
  {
   "cell_type": "markdown",
   "metadata": {},
   "source": [
    "### <a id = '62'>Transaction Date</a> \n",
    "\n",
    "We will parse out the date as day/month/year and perform cyclical representation for day and month."
   ]
  },
  {
   "cell_type": "markdown",
   "metadata": {},
   "source": [
    "### <a id = '63'>Encoding</a> \n",
    "\n",
    "We would perform one-hot encoding on the categorical variables."
   ]
  },
  {
   "cell_type": "markdown",
   "metadata": {},
   "source": [
    "### <a id = '64'>Feature Scaling</a>\n",
    "\n",
    "ML algorithms generally don't perform well when the input variables have very different scales. From the distribution charts above, the features have very different scales. Let's perform standardization to fix this."
   ]
  },
  {
   "cell_type": "markdown",
   "metadata": {},
   "source": [
    "### <a id = '65'>Columns to drop/add</a>\n",
    "\n",
    "Columns to add - 'has_pool'\n",
    "\n",
    "Columns to drop - 'censustractandblock', 'rawcensustractandblock', 'fips', 'airconditioningtypeid', 'lotsizesquarefeet', 'parcelid', 'propertylandusetypeid', 'regionidcounty', 'poolsizesum', 'regionidcity', 'unitcnt', 'architecturalstyletypeid', 'regionidneighborhood', 'regionidzip', 'buildingqualitytypeid', 'propertycountylandusecode', 'propertyzoningdesc', 'poolcnt', 'pooltypeid10', 'pooltypeid2', 'pooltypeid7', 'storytypeid', 'assessmentyear', 'decktypeid'"
   ]
  },
  {
   "cell_type": "code",
   "execution_count": 53,
   "metadata": {},
   "outputs": [
    {
     "name": "stdout",
     "output_type": "stream",
     "text": [
      "<class 'pandas.core.frame.DataFrame'>\n",
      "Int64Index: 72120 entries, 84051 to 15917\n",
      "Data columns (total 37 columns):\n",
      " #   Column                        Non-Null Count  Dtype  \n",
      "---  ------                        --------------  -----  \n",
      " 0   transactiondate               72120 non-null  object \n",
      " 1   basementsqft                  34 non-null     float64\n",
      " 2   bathroomcnt                   72120 non-null  float64\n",
      " 3   bedroomcnt                    72120 non-null  float64\n",
      " 4   buildingclasstypeid           14 non-null     float64\n",
      " 5   calculatedbathnbr             71149 non-null  float64\n",
      " 6   finishedfloor1squarefeet      5479 non-null   float64\n",
      " 7   calculatedfinishedsquarefeet  71575 non-null  float64\n",
      " 8   finishedsquarefeet12          68404 non-null  float64\n",
      " 9   finishedsquarefeet13          28 non-null     float64\n",
      " 10  finishedsquarefeet15          2804 non-null   float64\n",
      " 11  finishedsquarefeet50          5479 non-null   float64\n",
      " 12  finishedsquarefeet6           339 non-null    float64\n",
      " 13  fireplacecnt                  7723 non-null   float64\n",
      " 14  fullbathcnt                   71149 non-null  float64\n",
      " 15  garagecarcnt                  23863 non-null  float64\n",
      " 16  garagetotalsqft               23863 non-null  float64\n",
      " 17  hashottuborspa                72120 non-null  object \n",
      " 18  heatingorsystemtypeid         44864 non-null  float64\n",
      " 19  latitude                      72120 non-null  float64\n",
      " 20  longitude                     72120 non-null  float64\n",
      " 21  lotsizesquarefeet             64032 non-null  float64\n",
      " 22  roomcnt                       72120 non-null  float64\n",
      " 23  threequarterbathnbr           9594 non-null   float64\n",
      " 24  typeconstructiontypeid        223 non-null    float64\n",
      " 25  yardbuildingsqft17            2088 non-null   float64\n",
      " 26  yardbuildingsqft26            80 non-null     float64\n",
      " 27  yearbuilt                     71500 non-null  float64\n",
      " 28  numberofstories               16396 non-null  float64\n",
      " 29  fireplaceflag                 72120 non-null  object \n",
      " 30  structuretaxvaluedollarcnt    71795 non-null  float64\n",
      " 31  taxvaluedollarcnt             72119 non-null  float64\n",
      " 32  landtaxvaluedollarcnt         72119 non-null  float64\n",
      " 33  taxamount                     72117 non-null  float64\n",
      " 34  taxdelinquencyflag            72120 non-null  object \n",
      " 35  taxdelinquencyyear            1429 non-null   float64\n",
      " 36  has_pool                      72120 non-null  object \n",
      "dtypes: float64(32), object(5)\n",
      "memory usage: 20.9+ MB\n"
     ]
    }
   ],
   "source": [
    "features_train.info()"
   ]
  },
  {
   "cell_type": "markdown",
   "metadata": {},
   "source": [
    "### <a id = '66'>Feature Engineering</a>\n",
    "\n",
    "property_age -> 2020 - 'yearbuilt' <br>\n",
    "total_rm_cnt -> 'bathroomcnt' + 'bedroomcnt' <br>\n",
    "structure_value_psf -> 'structuretaxvaluedollarcnt' / 'calculatedfinishedsquarefeet' <br>\n",
    "land_value_psf -> 'landtaxvaluedollarcnt' / 'calculatedfinishedsquarefeet' <br>\n",
    "tax_value_psf -> 'taxvaluedollarcnt' / 'calculatedfinishedsquarefeet' <br>"
   ]
  },
  {
   "cell_type": "markdown",
   "metadata": {},
   "source": [
    "### <a id = '7'>Transformation Pipeline</a>\n",
    "\n",
    "We will create a function to handle the transformation required."
   ]
  },
  {
   "cell_type": "code",
   "execution_count": 54,
   "metadata": {},
   "outputs": [],
   "source": [
    "def transform(df):\n",
    "    \n",
    "    \"\"\"Perform necessary transformations for machine learning\"\"\"\n",
    "    \n",
    "    # fill null values\n",
    "    df = df.fillna(-1)\n",
    "    \n",
    "    # feature engineering\n",
    "    df['prop_age'] = 2020 - df['yearbuilt']\n",
    "    df['total_rm_cnt'] = df['bathroomcnt'] + df['bedroomcnt']\n",
    "    df['structure_value_psf'] = df['structuretaxvaluedollarcnt'] / df['calculatedfinishedsquarefeet']\n",
    "    df['land_value_psf'] = df['landtaxvaluedollarcnt'] / df['calculatedfinishedsquarefeet']\n",
    "    df['tax_value_psf'] = df['taxvaluedollarcnt'] / df['calculatedfinishedsquarefeet']\n",
    "    \n",
    "    # categorical features\n",
    "    categorical_features = df.dtypes[df.dtypes == 'object'].index\n",
    "    categorical_features = [x for x in categorical_features if 'date' not in x]\n",
    "        \n",
    "    # numerical features\n",
    "    numerical_features = df.dtypes[df.dtypes == 'float64'].index\n",
    "    \n",
    "    # one-hot encoding\n",
    "    df = pd.get_dummies(df, columns = categorical_features)\n",
    "\n",
    "    # standardization\n",
    "    scaled_df = df[numerical_features]\n",
    "    scaler = StandardScaler().fit(scaled_df.values)\n",
    "    scaled_df = scaler.transform(scaled_df.values)\n",
    "    df[numerical_features] = scaled_df\n",
    "\n",
    "\n",
    "    # convert transaction date column\n",
    "    df['transactiondate'] = pd.to_datetime(df['transactiondate'])\n",
    "    df['transaction_year'] = df['transactiondate'].dt.year\n",
    "    df['transaction_month'] = df['transactiondate'].dt.month\n",
    "    df['transaction_day'] = df['transactiondate'].dt.day\n",
    "    \n",
    "    \n",
    "    # convert cyclical features\n",
    "    df['transaction_day_sin'] = np.sin(df.transaction_day*(2.*np.pi/24))\n",
    "    df['transaction_day_cos'] = np.cos(df.transaction_day*(2.*np.pi/24))\n",
    "    df['transaction_month_sin'] = np.sin((df.transaction_month-1)*(2.*np.pi/12))\n",
    "    df['transaction_month_cos'] = np.cos((df.transaction_month-1)*(2.*np.pi/12))\n",
    "\n",
    "    df.drop(columns = ['transactiondate', 'transaction_month', 'transaction_day'], inplace = True)\n",
    "\n",
    "    return df"
   ]
  },
  {
   "cell_type": "code",
   "execution_count": 55,
   "metadata": {},
   "outputs": [],
   "source": [
    "features_train_transformed = transform(features_train)"
   ]
  },
  {
   "cell_type": "code",
   "execution_count": 56,
   "metadata": {},
   "outputs": [
    {
     "data": {
      "text/html": [
       "<div>\n",
       "<style scoped>\n",
       "    .dataframe tbody tr th:only-of-type {\n",
       "        vertical-align: middle;\n",
       "    }\n",
       "\n",
       "    .dataframe tbody tr th {\n",
       "        vertical-align: top;\n",
       "    }\n",
       "\n",
       "    .dataframe thead th {\n",
       "        text-align: right;\n",
       "    }\n",
       "</style>\n",
       "<table border=\"1\" class=\"dataframe\">\n",
       "  <thead>\n",
       "    <tr style=\"text-align: right;\">\n",
       "      <th></th>\n",
       "      <th>basementsqft</th>\n",
       "      <th>bathroomcnt</th>\n",
       "      <th>bedroomcnt</th>\n",
       "      <th>buildingclasstypeid</th>\n",
       "      <th>calculatedbathnbr</th>\n",
       "      <th>finishedfloor1squarefeet</th>\n",
       "      <th>calculatedfinishedsquarefeet</th>\n",
       "      <th>finishedsquarefeet12</th>\n",
       "      <th>finishedsquarefeet13</th>\n",
       "      <th>finishedsquarefeet15</th>\n",
       "      <th>...</th>\n",
       "      <th>fireplaceflag_False</th>\n",
       "      <th>taxdelinquencyflag_N</th>\n",
       "      <th>taxdelinquencyflag_Y</th>\n",
       "      <th>has_pool_No</th>\n",
       "      <th>has_pool_Yes</th>\n",
       "      <th>transaction_year</th>\n",
       "      <th>transaction_day_sin</th>\n",
       "      <th>transaction_day_cos</th>\n",
       "      <th>transaction_month_sin</th>\n",
       "      <th>transaction_month_cos</th>\n",
       "    </tr>\n",
       "  </thead>\n",
       "  <tbody>\n",
       "    <tr>\n",
       "      <th>84051</th>\n",
       "      <td>-0.018596</td>\n",
       "      <td>-0.277820</td>\n",
       "      <td>-0.892855</td>\n",
       "      <td>-0.013934</td>\n",
       "      <td>-0.254424</td>\n",
       "      <td>3.110436</td>\n",
       "      <td>-0.442601</td>\n",
       "      <td>-0.321856</td>\n",
       "      <td>-0.019644</td>\n",
       "      <td>-0.182859</td>\n",
       "      <td>...</td>\n",
       "      <td>1</td>\n",
       "      <td>1</td>\n",
       "      <td>0</td>\n",
       "      <td>1</td>\n",
       "      <td>0</td>\n",
       "      <td>2016</td>\n",
       "      <td>2.588190e-01</td>\n",
       "      <td>-0.965926</td>\n",
       "      <td>-1.000000</td>\n",
       "      <td>-1.836970e-16</td>\n",
       "    </tr>\n",
       "    <tr>\n",
       "      <th>21336</th>\n",
       "      <td>-0.018596</td>\n",
       "      <td>-1.275621</td>\n",
       "      <td>1.704393</td>\n",
       "      <td>-0.013934</td>\n",
       "      <td>-1.216693</td>\n",
       "      <td>-0.256362</td>\n",
       "      <td>-0.578588</td>\n",
       "      <td>-0.453802</td>\n",
       "      <td>-0.019644</td>\n",
       "      <td>-0.182859</td>\n",
       "      <td>...</td>\n",
       "      <td>1</td>\n",
       "      <td>1</td>\n",
       "      <td>0</td>\n",
       "      <td>1</td>\n",
       "      <td>0</td>\n",
       "      <td>2016</td>\n",
       "      <td>9.659258e-01</td>\n",
       "      <td>-0.258819</td>\n",
       "      <td>0.866025</td>\n",
       "      <td>5.000000e-01</td>\n",
       "    </tr>\n",
       "    <tr>\n",
       "      <th>3793</th>\n",
       "      <td>-0.018596</td>\n",
       "      <td>-0.277820</td>\n",
       "      <td>-0.892855</td>\n",
       "      <td>-0.013934</td>\n",
       "      <td>-0.254424</td>\n",
       "      <td>-0.256362</td>\n",
       "      <td>-0.676328</td>\n",
       "      <td>-0.548637</td>\n",
       "      <td>-0.019644</td>\n",
       "      <td>-0.182859</td>\n",
       "      <td>...</td>\n",
       "      <td>1</td>\n",
       "      <td>1</td>\n",
       "      <td>0</td>\n",
       "      <td>1</td>\n",
       "      <td>0</td>\n",
       "      <td>2016</td>\n",
       "      <td>-8.660254e-01</td>\n",
       "      <td>0.500000</td>\n",
       "      <td>0.000000</td>\n",
       "      <td>1.000000e+00</td>\n",
       "    </tr>\n",
       "    <tr>\n",
       "      <th>78283</th>\n",
       "      <td>-0.018596</td>\n",
       "      <td>-0.277820</td>\n",
       "      <td>-0.892855</td>\n",
       "      <td>-0.013934</td>\n",
       "      <td>-0.254424</td>\n",
       "      <td>-0.256362</td>\n",
       "      <td>-0.833562</td>\n",
       "      <td>-0.701199</td>\n",
       "      <td>-0.019644</td>\n",
       "      <td>-0.182859</td>\n",
       "      <td>...</td>\n",
       "      <td>1</td>\n",
       "      <td>1</td>\n",
       "      <td>0</td>\n",
       "      <td>1</td>\n",
       "      <td>0</td>\n",
       "      <td>2016</td>\n",
       "      <td>-5.000000e-01</td>\n",
       "      <td>0.866025</td>\n",
       "      <td>-0.866025</td>\n",
       "      <td>-5.000000e-01</td>\n",
       "    </tr>\n",
       "    <tr>\n",
       "      <th>24650</th>\n",
       "      <td>-0.018596</td>\n",
       "      <td>-0.277820</td>\n",
       "      <td>-0.027106</td>\n",
       "      <td>-0.013934</td>\n",
       "      <td>-0.254424</td>\n",
       "      <td>-0.256362</td>\n",
       "      <td>0.035477</td>\n",
       "      <td>0.142015</td>\n",
       "      <td>-0.019644</td>\n",
       "      <td>-0.182859</td>\n",
       "      <td>...</td>\n",
       "      <td>1</td>\n",
       "      <td>1</td>\n",
       "      <td>0</td>\n",
       "      <td>1</td>\n",
       "      <td>0</td>\n",
       "      <td>2016</td>\n",
       "      <td>1.224647e-16</td>\n",
       "      <td>-1.000000</td>\n",
       "      <td>1.000000</td>\n",
       "      <td>6.123234e-17</td>\n",
       "    </tr>\n",
       "  </tbody>\n",
       "</table>\n",
       "<p>5 rows × 50 columns</p>\n",
       "</div>"
      ],
      "text/plain": [
       "       basementsqft  bathroomcnt  bedroomcnt  buildingclasstypeid  \\\n",
       "84051     -0.018596    -0.277820   -0.892855            -0.013934   \n",
       "21336     -0.018596    -1.275621    1.704393            -0.013934   \n",
       "3793      -0.018596    -0.277820   -0.892855            -0.013934   \n",
       "78283     -0.018596    -0.277820   -0.892855            -0.013934   \n",
       "24650     -0.018596    -0.277820   -0.027106            -0.013934   \n",
       "\n",
       "       calculatedbathnbr  finishedfloor1squarefeet  \\\n",
       "84051          -0.254424                  3.110436   \n",
       "21336          -1.216693                 -0.256362   \n",
       "3793           -0.254424                 -0.256362   \n",
       "78283          -0.254424                 -0.256362   \n",
       "24650          -0.254424                 -0.256362   \n",
       "\n",
       "       calculatedfinishedsquarefeet  finishedsquarefeet12  \\\n",
       "84051                     -0.442601             -0.321856   \n",
       "21336                     -0.578588             -0.453802   \n",
       "3793                      -0.676328             -0.548637   \n",
       "78283                     -0.833562             -0.701199   \n",
       "24650                      0.035477              0.142015   \n",
       "\n",
       "       finishedsquarefeet13  finishedsquarefeet15  ...  fireplaceflag_False  \\\n",
       "84051             -0.019644             -0.182859  ...                    1   \n",
       "21336             -0.019644             -0.182859  ...                    1   \n",
       "3793              -0.019644             -0.182859  ...                    1   \n",
       "78283             -0.019644             -0.182859  ...                    1   \n",
       "24650             -0.019644             -0.182859  ...                    1   \n",
       "\n",
       "       taxdelinquencyflag_N  taxdelinquencyflag_Y  has_pool_No  has_pool_Yes  \\\n",
       "84051                     1                     0            1             0   \n",
       "21336                     1                     0            1             0   \n",
       "3793                      1                     0            1             0   \n",
       "78283                     1                     0            1             0   \n",
       "24650                     1                     0            1             0   \n",
       "\n",
       "       transaction_year  transaction_day_sin  transaction_day_cos  \\\n",
       "84051              2016         2.588190e-01            -0.965926   \n",
       "21336              2016         9.659258e-01            -0.258819   \n",
       "3793               2016        -8.660254e-01             0.500000   \n",
       "78283              2016        -5.000000e-01             0.866025   \n",
       "24650              2016         1.224647e-16            -1.000000   \n",
       "\n",
       "       transaction_month_sin  transaction_month_cos  \n",
       "84051              -1.000000          -1.836970e-16  \n",
       "21336               0.866025           5.000000e-01  \n",
       "3793                0.000000           1.000000e+00  \n",
       "78283              -0.866025          -5.000000e-01  \n",
       "24650               1.000000           6.123234e-17  \n",
       "\n",
       "[5 rows x 50 columns]"
      ]
     },
     "execution_count": 56,
     "metadata": {},
     "output_type": "execute_result"
    }
   ],
   "source": [
    "features_train_transformed.head()"
   ]
  },
  {
   "cell_type": "code",
   "execution_count": 57,
   "metadata": {},
   "outputs": [],
   "source": [
    "assert all(features_train_transformed.isna().sum() == 0) # nice!"
   ]
  },
  {
   "cell_type": "markdown",
   "metadata": {},
   "source": [
    "## <a id = '8'>Train Model</a>"
   ]
  },
  {
   "cell_type": "markdown",
   "metadata": {},
   "source": [
    "### <a id = '81'>Baseline Model - Gradient Boosting Regression</a>"
   ]
  },
  {
   "cell_type": "code",
   "execution_count": 58,
   "metadata": {},
   "outputs": [],
   "source": [
    "from sklearn.ensemble import GradientBoostingRegressor"
   ]
  },
  {
   "cell_type": "code",
   "execution_count": 59,
   "metadata": {},
   "outputs": [],
   "source": [
    "features_test_transformed = transform(features_test)"
   ]
  },
  {
   "cell_type": "code",
   "execution_count": 60,
   "metadata": {},
   "outputs": [],
   "source": [
    "# baseline model\n",
    "\n",
    "gbm = GradientBoostingRegressor(loss = 'lad', subsample = 0.8)"
   ]
  },
  {
   "cell_type": "code",
   "execution_count": 61,
   "metadata": {},
   "outputs": [
    {
     "data": {
      "text/plain": [
       "GradientBoostingRegressor(loss='lad', subsample=0.8)"
      ]
     },
     "execution_count": 61,
     "metadata": {},
     "output_type": "execute_result"
    }
   ],
   "source": [
    "gbm.fit(features_train_transformed, target_train)"
   ]
  },
  {
   "cell_type": "code",
   "execution_count": 62,
   "metadata": {},
   "outputs": [
    {
     "data": {
      "text/plain": [
       "0.06721022719503669"
      ]
     },
     "execution_count": 62,
     "metadata": {},
     "output_type": "execute_result"
    }
   ],
   "source": [
    "# get predictions\n",
    "pred = gbm.predict(features_train_transformed)\n",
    "\n",
    "# get MAE\n",
    "mean_absolute_error(target_train, pred)"
   ]
  },
  {
   "cell_type": "markdown",
   "metadata": {},
   "source": [
    "### <a id = '82'>Hyperparameter Tuning</a>\n",
    "\n",
    "This is a great [resource](https://www.analyticsvidhya.com/blog/2016/02/complete-guide-parameter-tuning-gradient-boosting-gbm-python/) by Analytics Vidhya on hyperparameter tuning Gradient Boosting Models.\n",
    "\n",
    "We will tune the following parameters iteratively.\n",
    "\n",
    "    - max_depth\n",
    "    - min_samples_split\n",
    "    - max_features"
   ]
  },
  {
   "cell_type": "code",
   "execution_count": 63,
   "metadata": {},
   "outputs": [],
   "source": [
    "def select_params(X_train, X_test, y_train, y_test, \n",
    "                  max_estimators = 1000, max_depth = 3, \n",
    "                  min_samples_split = 2, max_features = None,\n",
    "                  learning_rate = 0.01):\n",
    "    \n",
    "    \"\"\"Fit model, make predictions and plot learning curve\"\"\"\n",
    "\n",
    "\n",
    "    gbm = GradientBoostingRegressor(n_estimators = max_estimators, max_depth = max_depth, \n",
    "                                    min_samples_split = min_samples_split, max_features = max_features, \n",
    "                                    learning_rate = learning_rate, loss='lad', subsample=0.8, random_state = 42)\n",
    "\n",
    "    gbm.fit(X_train, y_train)\n",
    "\n",
    "    test_score = np.zeros((max_estimators,), dtype=np.float64)\n",
    "\n",
    "    for i, y_pred in enumerate(gbm.staged_predict(X_test)):\n",
    "        test_score[i] = mean_absolute_error(y_test, y_pred)\n",
    "        \n",
    "    print('optimal number of trees: {}'.format(test_score.argmin()))\n",
    "    print('best MAE: {}'.format(test_score.min()))\n",
    "\n",
    "    pd.Series(test_score).plot(title='Learning Curve')\n",
    "    plt.show()"
   ]
  },
  {
   "cell_type": "code",
   "execution_count": 64,
   "metadata": {},
   "outputs": [
    {
     "name": "stdout",
     "output_type": "stream",
     "text": [
      "***** Training for max_depth = 3 *****\n",
      "optimal number of trees: 987\n",
      "best MAE: 0.0664754974638011\n"
     ]
    },
    {
     "data": {
      "image/png": "[encoded data removed]",
      "text/plain": [
       "<Figure size 432x288 with 1 Axes>"
      ]
     },
     "metadata": {},
     "output_type": "display_data"
    },
    {
     "name": "stdout",
     "output_type": "stream",
     "text": [
      "***** Training for max_depth = 5 *****\n",
      "optimal number of trees: 887\n",
      "best MAE: 0.06642725798869194\n"
     ]
    },
    {
     "data": {
      "image/png": "[encoded data removed]",
      "text/plain": [
       "<Figure size 432x288 with 1 Axes>"
      ]
     },
     "metadata": {},
     "output_type": "display_data"
    },
    {
     "name": "stdout",
     "output_type": "stream",
     "text": [
      "***** Training for max_depth = 7 *****\n",
      "optimal number of trees: 488\n",
      "best MAE: 0.0664390412975965\n"
     ]
    },
    {
     "data": {
      "image/png": "[encoded data removed]",
      "text/plain": [
       "<Figure size 432x288 with 1 Axes>"
      ]
     },
     "metadata": {},
     "output_type": "display_data"
    }
   ],
   "source": [
    "# tune max_depth\n",
    "\n",
    "for depth in [3, 5, 7]:\n",
    "    print('***** Training for max_depth = {} *****'.format(depth))\n",
    "    select_params(features_train_transformed, features_test_transformed, \n",
    "                  target_train, target_test, max_estimators = 1000, \n",
    "                  max_depth = depth, min_samples_split = 2, \n",
    "                  max_features = None, learning_rate = 0.01)"
   ]
  },
  {
   "cell_type": "markdown",
   "metadata": {},
   "source": [
    "Maximum tree depth of 5 gives us the lowest MAE of 0.06643. Generally lower depth value will allow the model to learn relations very specific to a particular sample. We can also see that tree depth of 7 causes the model to overfit with more estimators."
   ]
  },
  {
   "cell_type": "code",
   "execution_count": 65,
   "metadata": {},
   "outputs": [
    {
     "name": "stdout",
     "output_type": "stream",
     "text": [
      "***** Training for min_samples_split = 2 *****\n",
      "optimal number of trees: 887\n",
      "best MAE: 0.06642725798869194\n"
     ]
    },
    {
     "data": {
      "image/png": "[encoded data removed]",
      "text/plain": [
       "<Figure size 432x288 with 1 Axes>"
      ]
     },
     "metadata": {},
     "output_type": "display_data"
    },
    {
     "name": "stdout",
     "output_type": "stream",
     "text": [
      "***** Training for min_samples_split = 3 *****\n",
      "optimal number of trees: 992\n",
      "best MAE: 0.0663994696257765\n"
     ]
    },
    {
     "data": {
      "image/png": "[encoded data removed]",
      "text/plain": [
       "<Figure size 432x288 with 1 Axes>"
      ]
     },
     "metadata": {},
     "output_type": "display_data"
    },
    {
     "name": "stdout",
     "output_type": "stream",
     "text": [
      "***** Training for min_samples_split = 4 *****\n",
      "optimal number of trees: 724\n",
      "best MAE: 0.06643990139915694\n"
     ]
    },
    {
     "data": {
      "image/png": "[encoded data removed]",
      "text/plain": [
       "<Figure size 432x288 with 1 Axes>"
      ]
     },
     "metadata": {},
     "output_type": "display_data"
    }
   ],
   "source": [
    "# tune min_samples_split, max_depth set to 5\n",
    "\n",
    "for split in [2, 3, 4]:\n",
    "    print('***** Training for min_samples_split = {} *****'.format(split))\n",
    "    select_params(features_train_transformed, features_test_transformed, \n",
    "                  target_train, target_test, max_estimators = 1000, \n",
    "                  max_depth = 5, min_samples_split = split, \n",
    "                  max_features = None, learning_rate = 0.01)"
   ]
  },
  {
   "cell_type": "markdown",
   "metadata": {},
   "source": [
    "Min_samples_split of 3 gives us the best MAE of 0.06640, slight improvement from the default value of 2."
   ]
  },
  {
   "cell_type": "code",
   "execution_count": 66,
   "metadata": {},
   "outputs": [
    {
     "name": "stdout",
     "output_type": "stream",
     "text": [
      "***** Training for max_features = sqrt *****\n",
      "optimal number of trees: 886\n",
      "best MAE: 0.06642678648433775\n"
     ]
    },
    {
     "data": {
      "image/png": "[encoded data removed]",
      "text/plain": [
       "<Figure size 432x288 with 1 Axes>"
      ]
     },
     "metadata": {},
     "output_type": "display_data"
    },
    {
     "name": "stdout",
     "output_type": "stream",
     "text": [
      "***** Training for max_features = 15 *****\n",
      "optimal number of trees: 992\n",
      "best MAE: 0.06640808897096408\n"
     ]
    },
    {
     "data": {
      "image/png": "[encoded data removed]",
      "text/plain": [
       "<Figure size 432x288 with 1 Axes>"
      ]
     },
     "metadata": {},
     "output_type": "display_data"
    },
    {
     "name": "stdout",
     "output_type": "stream",
     "text": [
      "***** Training for max_features = 20 *****\n",
      "optimal number of trees: 571\n",
      "best MAE: 0.06641968121487123\n"
     ]
    },
    {
     "data": {
      "image/png": "[encoded data removed]",
      "text/plain": [
       "<Figure size 432x288 with 1 Axes>"
      ]
     },
     "metadata": {},
     "output_type": "display_data"
    }
   ],
   "source": [
    "# tune max_features, max_depth set to 5 and min_samples_split set to 3\n",
    "\n",
    "for features in ['sqrt', 15, 20]:\n",
    "    print('***** Training for max_features = {} *****'.format(features))\n",
    "    select_params(features_train_transformed, features_test_transformed, \n",
    "                  target_train, target_test, max_estimators = 1000, \n",
    "                  max_depth = 5, min_samples_split = 3, \n",
    "                  max_features = features, learning_rate = 0.01)"
   ]
  },
  {
   "cell_type": "markdown",
   "metadata": {},
   "source": [
    "We will select max_features = 15, around 30% of our total features."
   ]
  },
  {
   "cell_type": "markdown",
   "metadata": {},
   "source": [
    "### <a id = '83'>Feature Importance</a>"
   ]
  },
  {
   "cell_type": "code",
   "execution_count": 67,
   "metadata": {},
   "outputs": [],
   "source": [
    "# define optimised model\n",
    "\n",
    "gbm = GradientBoostingRegressor(n_estimators = 1000, max_depth = 5, \n",
    "                                min_samples_split = 3, max_features = 15, \n",
    "                                learning_rate = 0.01, loss = 'lad', subsample = 0.8)"
   ]
  },
  {
   "cell_type": "code",
   "execution_count": 68,
   "metadata": {},
   "outputs": [
    {
     "data": {
      "text/plain": [
       "GradientBoostingRegressor(learning_rate=0.01, loss='lad', max_depth=5,\n",
       "                          max_features=15, min_samples_split=3,\n",
       "                          n_estimators=1000, subsample=0.8)"
      ]
     },
     "execution_count": 68,
     "metadata": {},
     "output_type": "execute_result"
    }
   ],
   "source": [
    "gbm.fit(features_train_transformed, target_train)"
   ]
  },
  {
   "cell_type": "code",
   "execution_count": 69,
   "metadata": {},
   "outputs": [
    {
     "data": {
      "text/plain": [
       "Text(0.5, 1.0, 'Top 20 Features')"
      ]
     },
     "execution_count": 69,
     "metadata": {},
     "output_type": "execute_result"
    },
    {
     "data": {
      "image/png": "[encoded data removed]",
      "text/plain": [
       "<Figure size 1152x576 with 1 Axes>"
      ]
     },
     "metadata": {},
     "output_type": "display_data"
    }
   ],
   "source": [
    "# get feature importance\n",
    "\n",
    "predictors = list(features_train_transformed)\n",
    "\n",
    "plt.figure(figsize = (16, 8))\n",
    "feat_imp = pd.Series(gbm.feature_importances_, predictors).sort_values(ascending = False).nlargest(20)\n",
    "feat_imp.plot(kind = 'barh', fontsize = 12).invert_yaxis()\n",
    "plt.ylabel('Feature Importance Score', fontsize = 12)\n",
    "plt.title('Top 20 Features', fontsize = 16)"
   ]
  },
  {
   "cell_type": "markdown",
   "metadata": {},
   "source": [
    "Most of our new features are in the top 20 in terms of importance, means we are on the right track!"
   ]
  },
  {
   "cell_type": "markdown",
   "metadata": {},
   "source": [
    "## <a id = '9'>Next Steps</a>\n",
    "\n",
    "1. Feature engineering with geographical variables. Noticed how latitude and longitude are the 2nd and 3rd most important feature? <br> We can certainly create new features on these information to improve our model.\n",
    "\n",
    "    Some ideas:\n",
    "\n",
    "    - Average feature values for nearby homes\n",
    "    - Average difference in feature values vs nearby homes\n",
    "    - Get distance of property to the nearest main city\n",
    "    \n",
    "    \n",
    "2. Stacked Generalization (Stacking) to improve the model.\n",
    "    - [Tutorial on stacking](https://machinelearningmastery.com/stacking-ensemble-machine-learning-with-python/)"
   ]
  }
 ],
 "metadata": {
  "kernelspec": {
   "display_name": "Python 3",
   "language": "python",
   "name": "python3"
  },
  "language_info": {
   "codemirror_mode": {
    "name": "ipython",
    "version": 3
   },
   "file_extension": ".py",
   "mimetype": "text/x-python",
   "name": "python",
   "nbconvert_exporter": "python",
   "pygments_lexer": "ipython3",
   "version": "3.7.6"
  }
 },
 "nbformat": 4,
 "nbformat_minor": 4
}
